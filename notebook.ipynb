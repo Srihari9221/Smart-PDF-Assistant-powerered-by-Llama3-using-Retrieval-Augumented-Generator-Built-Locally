{
 "cells": [
  {
   "cell_type": "code",
   "execution_count": 12,
   "metadata": {},
   "outputs": [],
   "source": [
    "import os\n",
    "from dotenv import load_dotenv\n",
    "\n",
    "load_dotenv()\n",
    "\n",
    "MODEL = \"llama3\"\n"
   ]
  },
  {
   "cell_type": "code",
   "execution_count": 13,
   "metadata": {},
   "outputs": [
    {
     "data": {
      "text/plain": [
       "\"Here's one:\\n\\nWhy couldn't the bicycle stand up by itself?\\n\\n(Wait for it...)\\n\\nBecause it was two-tired!\\n\\nHope that made you laugh!\""
      ]
     },
     "execution_count": 13,
     "metadata": {},
     "output_type": "execute_result"
    }
   ],
   "source": [
    "from langchain_community.llms import Ollama\n",
    "\n",
    "from langchain_community.embeddings import OllamaEmbeddings\n",
    "\n",
    "model = Ollama(model=MODEL)\n",
    "embeddings = OllamaEmbeddings(model=MODEL)\n",
    "\n",
    "model.invoke(\"Tell me a joke\")"
   ]
  },
  {
   "cell_type": "code",
   "execution_count": 14,
   "metadata": {},
   "outputs": [],
   "source": [
    "from langchain_core.output_parsers import StrOutputParser\n",
    "\n",
    "parser = StrOutputParser()\n",
    "\n",
    "chain = model | parser "
   ]
  },
  {
   "cell_type": "code",
   "execution_count": 15,
   "metadata": {},
   "outputs": [
    {
     "data": {
      "text/plain": [
       "'\\nAnswer the question based on the context below. If you can\\'t \\nanswer the question, reply \"I don\\'t know\".\\n\\nContext: Here is some context\\n\\nQuestion: Here is a question\\n'"
      ]
     },
     "execution_count": 15,
     "metadata": {},
     "output_type": "execute_result"
    }
   ],
   "source": [
    "from langchain.prompts import PromptTemplate\n",
    "\n",
    "template = \"\"\"\n",
    "Answer the question based on the context below. If you can't \n",
    "answer the question, reply \"I don't know\".\n",
    "\n",
    "Context: {context}\n",
    "\n",
    "Question: {question}\n",
    "\"\"\"\n",
    "\n",
    "prompt = PromptTemplate.from_template(template)\n",
    "prompt.format(context=\"Here is some context\", question=\"Here is a question\")"
   ]
  },
  {
   "cell_type": "code",
   "execution_count": 16,
   "metadata": {},
   "outputs": [],
   "source": [
    "chain = prompt | model | parser\n"
   ]
  },
  {
   "cell_type": "code",
   "execution_count": 18,
   "metadata": {},
   "outputs": [
    {
     "data": {
      "text/plain": [
       "[Document(page_content='Best Practices for Website\\nHosting\\nNeST-PRO-GEN.01 | Version 0.1\\nStatus: Draft | April, 2018\\nGovernment of India\\nOpen Source Software Stack\\n(Open source software stack for use in  e-Governanc e applications)\\nNovember 2022\\nOTG-TDOC-OSS-2022-1 | Version 8.8\\nDisclaimer: Open Source Software and the logos included is / are copy right ofrespective Owners / Open Source Community\\nNATIONAL INFORMATICS CENTRE\\nMinistry of Electronics & Information Technology\\nNew Delhi-110 003', metadata={'source': 'OSS_Stack_2022_v8.8_2022-12-01.pdf', 'page': 0}),\n",
       " Document(page_content='Amendment log\\nVersion\\nNo Release \\nDateDescription  Section(s) \\nModified By                           \\nPrepared byReviewed by Approved By\\n8.829th \\nNovember \\n2022OSS Stack 2022 for NIC Reviewed. New \\nTools added after \\nfeedback from NIC \\nOfficers.OTG Team, NICSrinivasa Raghavan K, \\nDDG and SIO - TNSCDG,NIC\\n8.7.509th\\nNovember \\n2022OSS Stack 2022 for NIC Updated Tools  \\nwith the latest \\nversion.OTG Team, NICOTG Team, NIC\\n8.7.407th\\nOctober \\n2022OSS Stack 2022 for NIC Reviewed. Added \\nNew Tools  after  \\nfeedback  from NIC \\nOfficers on \\nupdated report \\nbased on \\nDigitalNIC circular.OTG Team, NICOTG Team, NIC\\n8.7.313th\\nSeptember \\n2022OSS Stack 2022 for NIC Reviewed. New \\nTools added after \\nfeedback from NIC \\nOfficers.OTG Team, NICSrinivasa Raghavan K, \\nDDG and SIO - TNSC\\n8.7.202nd\\nSeptember \\n2022OSS Stack 2022 for NIC New Tools added \\nafter feedback \\nfrom NIC Officers.OTG Team, NICOTG Team, NIC\\n8.7.101st July \\n2022OSS Stack 2022 for NIC ALLOTG Team, NICOTG Team, NIC\\n8.717th  \\nSeptember\\n 2020OSS Stack 2020 for NIC Suggestions from \\nDG, NICOTG Team, NICDr.V.S.Raghunathan, DDG DG,NIC\\n8.621st  July \\n2020OSS Stack 2020 for NIC ALLOTG Team, NICDr.V.S.Raghunathan, DDG\\n8.509th March \\n2020OSS Stack 2020 for NIC ALL OTG Team, NICDr.V.S.Raghunathan, DDG\\nTechnical Advisory Committee \\n(TAG)\\n8.47th  May 2019OSS Stack 2019 for NIC Suggestions from \\nTAG are \\nincorporated.OTG Team, NICDr.V.S.Raghunathan, DDG\\nTechnical Advisory Committee \\n(TAG)DG,NIC\\n8.316th  April \\n2019OSS Stack 2019 for NIC New Tools added \\nafter second level \\nfeedback from \\nSIOs/HoGs/HoDs.OTG Team, NICDr.V.S.Raghunathan, DDG\\nTechnical Advisory Committee \\n(TAG)\\n8.229th  March \\n2019OSS Stack 2019 for NIC New Tools added \\nafter First level \\nfeedback through \\nSIOs/HoGs/HoDsOTG Team, NICDr.V.S.Raghunathan, DDG\\n8.112th  March \\n2019OSS Stack 2019 for NIC ALLOTG Team, NICDr.V.S.Raghunathan, DDG\\n11st May 2014Policy on Open source \\nsoftware stack 2014 for \\nuse in  e-Governance  \\napplicationsALLOTG team, NICDr P Balasubramanian\\nDDGDG, NIC', metadata={'source': 'OSS_Stack_2022_v8.8_2022-12-01.pdf', 'page': 1}),\n",
       " Document(page_content='OPEN SOURCE POLICY\\nOrganizations worldwide have adopted innovative alternative solutions in order to optimise costs by\\nexploring avenues of “Open Source Software”. GoI has also been promoting the use of open source\\ntechnologies  in  the e-Governance domain  within  the country  in  order  to  leverage  economic and\\nstrategic  benefits.  T he  first  Framework  for  Adoption  of   Open  Source  Software  in  e-Governance\\nSystems was brought out by Government of India during April 2015 with NIC as the key contributor.\\nRefer www.meity.gov.in for more details. \\nRECOMMENDED OPEN SOURCE STACK FOR NIC\\nAs an effort towards compliance of the above policy, t he open source software stack for use in NIC for\\ndeveloping e-Governance application was revised and circulated to HoG/SIO/HoD and to all officers\\nover IntraNIC for review and feedback. The  feedback received from various states and project teams\\nwere compiled,  reviewed, evaluated and incorporated.  All the software/tools mentioned are that of\\nCommunity Edition only.\\nThis  document  recommends  the Open  Source  Software Stack for developing  and  deploying  in  e-\\nGovernance Applications  managed by NIC.  The  document is divided into two parts namely  priority\\ntools and supplementary tools . These tools are classified under various functional areas and grouped\\nin three major stack categories namely Open Web Technology (OWT), Java and PHP.  The prioritized\\ntools are limited to the tools that are deployed in the NIC data centres. The priority tools included are\\nhighly recommended that the new project should prefer to use. It is recommended that project teams\\nshould strive to update or upgrade to the latest supported version. The personalized advisories will be\\nmade available for those who  have updated their environmental deployment details under  DIGITAL\\nNIC. The tools and their versions  indicated in this document may change from time-to-time as per the\\nrelease cycle of the respective tools and the requirements from the project teams. \\nOSS REPOSITORY SERVICES        \\nNIC has been providing consultancy, advisory and support services towards the adoption of OSS as per\\n“Policy on Adoption of Open Source Software for Government of India\". These services are limited to\\nthe prioritized tools that are deployed in the NIC data centres only. The services that are offered\\nthrough  OSS  REPOSITORY  includes  the  following  pre-configured  hardened  artifacts  for  CentOS,\\nAlmaLinux, Rocky Linux  & Ubuntu Operating Systems.\\n•Customized ISO images\\n•Update Utilities tools option for Updating to the latest versions of OSS tools as per the stack\\n•Native packages in RPM and DEB formats \\nPersonalized  advisories  are provided  for the prioritized  OSS stack tools in OSS  Repository Portal\\nthrough DigitalNIC and SANDES (GIMS). Four types of repositories are made available namely \\n1.The information & advisory dissemination through ossrespository.gov.in\\n2.Operating Systems Update/ Upgrade for respective OS\\n3.Community Repositories for PostgreSQL (PGDG), PHP (Raven), Apache HTTP (Remi), Node\\nNPM, Nginx, MariaDB, Gitlab, Docker and Python PIP are also provided.\\n4. Custom RPM and DEB repository for CentOS and Ubuntu.', metadata={'source': 'OSS_Stack_2022_v8.8_2022-12-01.pdf', 'page': 2}),\n",
       " Document(page_content='OSS SUPPORT\\nNIC Service Desk https://servicedesk.nic.in  will have list of priority tools for which consultancy and ad -\\nvisories can be availed. New OSS tool(s) that are found suitable may also be submitted through NIC\\nService Desk for evaluation and inclusion in supplementary list.', metadata={'source': 'OSS_Stack_2022_v8.8_2022-12-01.pdf', 'page': 3}),\n",
       " Document(page_content='Priority Tools\\nFunctional Areas for Tools OWT Technology Stack Java Technology Stack PHP Technology Stack\\nSolutions for Infrastructure\\nServer Operating System CentOS  (7.x), CentOS Stream (8/9)*\\nUbuntu (22.04/20.04/18.04)\\n  AlmaLinux (9.x/8.x)\\n  Rocky Linux (9.x/8.x)\\nDesktop Operating System Ubuntu (22.04/20.04/18.04)\\nSolutions for Application Development & Deployment\\nWeb / HTTP Server Apache HTTP Server (2.4.x), Nginx  (1.23.x)\\nApplication Server Apache Tomcat (8.5.x/9.0.x/10.0.x/10.1.x)\\nProgramming Language Server-\\nside and LibraryOpenJDK(17.x/11.x), \\nPHP (8.1.x/8.0.x) OpenJDK (17.x/11.x) PHP (8.1.x/8.0.x)\\nPython (3.x)\\nRelational Database PostgreSQL Community Edition (15.x/14.x/13.x/12.x/11.x)\\nMariaDB Community Edition (10.9.x/10.8.x/10.6.x/10.5.x/10.4.x/10.3.x )\\nMySQL Community Edition (8.0.x)', metadata={'source': 'OSS_Stack_2022_v8.8_2022-12-01.pdf', 'page': 4}),\n",
       " Document(page_content='Supplementary Tools\\nFunctional Areas for Tools OWT Technology Stack Java Technology Stack PHP Technology Stack\\nIDE Eclipse (2022-xx ) with extensions, Netbeans (15.x), Jetbrains- IntelliJ \\nIDEA(2022.2.x ), Visual Studio Community Edition(17.x )\\nSource Code Control Git (2.38.x) / Subversion (1.x), GITHub(3.1.x) \\nSource Code Editor Visual Studio Code (1.73.x)\\nDocumentation LibreOffice (7.3.x), Openoffice (4.1.x)\\nBuild Tool Apache Maven (3.8.x), \\nGradle (7.5.x), \\nWebpack(5.74.x)Apache Maven (3.8.x) , \\nGradle (7.5.x) Phing (2.17.x), \\npuppet(7.19.x), \\nComposer(2.4.x )\\nApplication Life Cycle Management / Project \\nManagementTuleap (13.x), Redmine (5.0.x), \\nCI/CD Jenkins (2.x), GITLab(15.x), SonarQube(9.7.x)\\nCode review Gerrit (3.x)\\nProgramming Language Client-side HTML (5.x), CSS (3.x/4.x), JavaScript (ECMA Script 2022), jQuery (3.6.x )\\nWeb Service Framework Apache CXF (3.5.x/3.4.x) \\nSymfony (6.1.x/5.4.x)Apache CXF (3.5.x/ \\n3.4.x ), PostGREST \\n(10.0.x) Symfony (6.1.x/5.4.x), \\nCakePHP (4.4.x) / \\nLaravel (10.x/9.x), \\nCodeIgniter (4.2.x)\\nWeb / HTTP Server  nginx-quic (1.23.x) with boringssl\\nProgramming Language Server-side and \\nLibraryXAMPP(8.1.x/8.0.x/7.4.x)\\nGoLang(1.19.x/1.18.x), ASP.NET Core MVC(7.0)\\nServer Side Framework Spring Boot (2.7.x) Apache Wicket \\nFramework \\n(9.12.x/8.14.x) , Ruby \\non Rails(7.0.x/ 6.1.x/ \\n6.0.x/ 5.2.x), Struts \\n(6.0.x / Spring (5.3.x) \\n/Spring Boot (2.7.x)CakePHP (4.4.x) / \\nLaravel (10.x/9.x), \\nSymfony (6.1.x/5.4.x), \\nCodeIgniter (4.2.x)\\n.NET Core (7.0.x/6.0.x), Python-Django (4.1.x), Whack(0.7.x), WSO2 \\nCE(4.7.x), Kong CE(3.x.y/2.x.y)\\nServer-side API TYK (4.2.x/4.0.x)\\nServer-side API(GoLang) Go Chi(5.0.x), JWT-GO(3.2.x), Gorm(1.24.x), Logrus(1.8.1), Resty(2.7.x), \\nGRPC-Go(1.50.x), envconfig(1.4.x), Gorilla /Web Socket(1.5.x) \\nGo(1.19.x/1.18.x), FluxIO Go XMPP(0.5.x), Go Redis(8.11.x), bleve(2.3.x), \\nHikariCP(5.0.x), Themis(13.x), Gorilla MUX(1.8.x)\\nApplication Server Node.js (19.x/18.x) with Express.js(4.18.x)\\nClient-side Framework React.js (18.2.x/17.0.x), Vue.js(3.2.x), Polymer.js (3.4.x/2.8.x), Angular \\n(14.0.x/13.0.x), Ember (4.8.x) , Bootstrap (5.x/4.x), underscore.js(1.13.x), \\nRedux (4.2.x)\\nClient-side API Openlayers(7.1.x), google-webrtc(1.0.x)Solutions for Application Development & Deployment  Solutions for Source Code management, Dev Ops & Documentation', metadata={'source': 'OSS_Stack_2022_v8.8_2022-12-01.pdf', 'page': 5}),\n",
       " Document(page_content='Analytics and Search Engine Apache-Spark(3.3.x), Apache-Flink (1.15.x/1.14.x), R-Programming (4.2.x), \\nApache-Zeppelin(0.10.x), Apache-Nutch(2.x.y/1.x.y) ,  ELK-\\nElasticsearch(8.5.x) ,  Apache Solr (9.0.x), Apache Lucene (9.4.x), \\nOpenSearch (2.3.x/2.2.x/1.3.x)\\nDashboard C3.js (0.7.x), D3.js (7.6.x), dc.js (4.2.x)\\nTesting QUnit (2.19.x), JUnit (5.x)\\nApache Jmeter (5.5),\\nW3C markup Validation \\nservice(1.4)QUnit (2.19.x), JUNit \\n(5.x),\\nApache Jmeter (5.5),\\nW3C markup \\nValidation service(1.4)Phpunit (9.x)\\nApache Jmeter (5.5)\\nW3C markup \\nValidation service(1.4)\\nSelenium (4.6.x),\\xa0Gophish(0.12.x)\\nStatic Code Analyzer PMD (6.51.x)\\nMobile Native (Android) Android Studio 2021.3.1 (Dolphin)),   rootbeer(0.1.x), volley(1.2.x), \\nSmack(4.4.x), okhttp(4.10.x),  zxing(3.5.x),  \\nMobile Native (iOS) SwiftyJSON(5.0.x), SwiftLinkPreview(3.4.x), CryptoSwift(1.6.x), Swift \\n5(5.6.x), SwiftEntryKit(2.0.x), ReverseExtension(0.6.x), \\nZIPFoundation(0.9.x), RNCryptor(5.1.x), Cocopods(1.11.x), Toolbar(0.7.x), \\ncoturn (4.5.2.x), SVProgressHUD(2.2.x), DataCompression(3.6.x), \\nAlamofireImage(4.2.x),  Alamofire(5.6.x),  IQKeyboardManager(6.5.x) ,  \\nXMPPFramework(4.1.x), FlexColorPicker(1.4.x), TextFieldEffects(1.7.x), \\nCross-platform Apache-Cordova (11.0.x),  Ionic(6.3.x), Flutter(3.3.x), Appium(2.0.x),   \\nGlide(4.14.x), GoogleWebRTC(1.01x), React Native (0.70.x)\\nServer Operating System Debian (11.x)\\nDesktop Operating System  BOSS (9.x/8.x) / Fedora (36) / Debian (11.x)\\nContainers Docker (20.10.x), Kubernetes(1.x) , podman (4.2.x),\\nCommand Line Interface Fish (3.5.x), Byobu (5.x), Guake (3.9.x), Snowflake SSH(1.0.x), \\nMonitoring Solution OpenNMS(30.0.x), Zabbix(6.x/5.x), Netdata(1.35.x), Nagios (4.4.x), \\nOpenDCIM(21.x),  AWStats(7.x), IBM appmetrics(5.1.x) \\nDirectory Services OpenLDAP (2.6.x)\\nVirtualisation  proxmox(7.x)\\nCloud Platform OpenStack (Zed), Minio(RELEASE.2022-10-05T14-58-27Z ), Jaeger(1.39)\\nVideo Conference Apache OpenMeetings (6.3.x), Jitsi(2.x)\\nConfiguration Management Apache Zookeeper (3.8.x), Ansible(2.9.x)\\nVPN wiregaurd(1.0.x)\\nIssue Tracking OTRS (Open-source Ticket Request System)(8.0.x)\\nMail Zimbra(9.0.x)\\nMalware Malware Information Sharing Platform (MISP) (2.4.x)\\nStorage Ceph Storage (17.2.x)\\nNetworkign Platform/API Open vSwitch (OVS)(2.17.x), Open Network Operating System (ONOS)\\n(2.7.x), OpenDaylight (ODL)(Chlorine -SR0)\\nInstant Messaging eJabberd(22.x)\\nNon-Relational Database (Big Data) Apache Cassandra (4.0.x ) , Apache Hbase (2.5.x ) with Hadoop (3.3.x ), \\nApache CouchDB (3.2.x ) ,Apache Hive (3.1.x ),  ArangoDB(3.10.x), \\nmongoDB(6.1.x), Apache Drill  (1.20.x), RavenDB(5.4.x)\\nObject Relational Mapping Hibernate (6.1.x) Hibernate (6.1.x)Doctrine (3.2.x)\\nDatabase Administration PgAdmin IV (4.x), PhpMyAdmin (5.2.x), phppgAdmin(7.13.x),  \\nRedash(10.1.x)\\nDatabase Reporting Jasper Report (6.20.x) with\\niReport Designer (5.6.x), \\nBirt (4.9.x)Jasper Report (6.20.x) \\nwith iReport Designer \\n(5.6.x), wkhtmltopdf \\n(0.12.x), Birt (4.9.x)wkhtmltopdf (0.12.x), \\nMPDF(8.1.x), \\nFPDF(1.x), \\nTCPDF(6.4.x)Solutions for Data Management Mobile Applications Solutions for Infrastructure Application testingData Analytics', metadata={'source': 'OSS_Stack_2022_v8.8_2022-12-01.pdf', 'page': 6}),\n",
       " Document(page_content='Database Replication SymmetricDS (3.14.x / 1.7.x)   \\nDatabase Management SQLyog (Community Edition)(13.1.x)\\nNewSQL YugabyteDB (2.14.1.x), Vitess(15.x)\\nData Management ODK (Open Data Collect) (2022.3.x), Netlogo (6.3.x), Fluentd(1.15.x)\\nCaching (in memory DB) redis (7.0.x), memcached(1.6.x)\\nGIS Server Geo Server (2.21.x), \\nGeotools(25.x)Geo Server (2.21.x), \\nGeotools(25.x)`Map server \\n(8.0.x/7.6.x), MBTILES \\nCommunity \\nmodule(1.x),GEOWEB\\nCACHE(1.x), \\nJDBCConfig- \\nExtension to \\nGeoServer,GeoServer \\nPrinting Module \\nextension \\nGIS Desktop Quantum GIS (3.28.x / \\n3.22.x), GRASS GIS \\n(8.x/7.8.x), gvSIG (2.5.x)Quantum GIS (3.28.x / \\n3.22.x), GRASS GIS \\n(8.x/7.8.x), gvSIG (2.5.x)Quantum GIS (3.28.x /\\n3.22.x), GRASS GIS \\n(8.x/7.8.x), \\ngvSIG(2.5.x) , \\nTILEMILL map \\nstudio(1.0.x)\\nGIS Database PostGIS (3.1.x), neo4j CE (4.4.x)\\nPortal/CMS Drupal (9.4.x/9.3.x/7.x),\\nwordpress(6.0),\\nzope(5.x)Liferay Community \\nEdition (7.4.x),\\nStrapi.io CE (4.4.x)Drupal \\n(9.4.x/9.3.x/7.x),\\nwordpress(6.0),\\nzope(5.x), Joomla \\n(4.2.x/3.10.x)\\nDigital Archival Repository Dspace (7.x), LogicalDoc CE (Community Edition)(8. 7.x)\\nIntegrated Library Systems Koha (22.05),  Folio\\nE-learning Moodle (3.11/4.0/4.1)\\nMessaging Apache Kafka(3.3.x/3.2.x/3.1.x), ActiveMQ(5.17.x/5.16.x), \\nRabbitMQ(3.11.x/3.10.x),  NATS.io (2.9.x)\\nKnowledge Management OpenKM-CE (Community Edition)(6.3.x)\\nBusiness Intelligence(BI) Pentaho(Community Edition)(9.3/8.3 ) knowage-server(8.0.x)\\n             \\nLegend \\n            OSS Stack 2020 supplementary Tools\\n  *Please see disclaimer in last page.        Meta data collected tools for advisories         New Tools  added   based on feedback 2022Portal,e-learning,KM,BI etc. Solutions for GIS', metadata={'source': 'OSS_Stack_2022_v8.8_2022-12-01.pdf', 'page': 7}),\n",
       " Document(page_content=\"Disclaimer: This content is prepared for NIC's internal use and cannot be disclosed or copied without the prior written consent of National \\nInformatics Centre (NIC). Nothing in this content constitutes a guaranty, warranty, or license, express or implied. NIC disclaims all liability for \\nall such guaranties,warranties, and licenses, including but not limited to: Fitness for a particular purpose; merchantability; not infringement \\nof intellectual property or other rights of any third party or of NIC;indemnity; and all others. The reader is advised that third parties can have \\nintellectual property rights that can be relevant to this content and the technologies discussed herein, and is advised to seek the advice of \\ncompetent legal counsel, without obligation of NIC. NIC retains the right to make changes to this content at any time, without notice. NIC \\nmakes no warranty for the use of this content and assumes no responsibility for any errors that can appear in the content nor does it make a \\ncommitment to update the information contained herein. \\n* Redhat has issued an advisory and a checklist on the use of CentOS Stream release of OS. Redhat says that CentOS Stream is not designed \\nfor production use. It is intended as a development platform for Red Hat partners and others that want to participate and collaborate in the \\nRed Hat Enterprise Linux ecosystem. Consequently, running CentOS Stream in production environments presents many challenges compared \\nto enterprise-ready distributions like RHEL. For more details visit  https://www.redhat.com/en/resources/centos-stream-checklist\\n** From the community perspective binary equivalents of RHEL 8 / 9 are AlmaLinux 8/ 9 and Rocky Linux 8/ 9.\\n   राष्ट्रीयसूचनावि\\x0cज्ञानकेंद्र\\nए-ब्लॉक,  सीजीओकॉम्प्लेक्स ,  लोधीरोड,\\n  नईवि\\x1fल्ली- 110 003 भारतOTG-TDOC-OSS-2022-1\\nOpen Technology Group\\nNational Informatics Centre\\nMinistry of Electronics & Information Technology\\nOTG, A-Wing, First Floor, Rajaji Bhawan, \\nBesant Nagar, Chennai – 600 090\\nE.mail: otghelpdesk@nic.in\", metadata={'source': 'OSS_Stack_2022_v8.8_2022-12-01.pdf', 'page': 8})]"
      ]
     },
     "execution_count": 18,
     "metadata": {},
     "output_type": "execute_result"
    }
   ],
   "source": [
    "from langchain_community.document_loaders import PyPDFLoader\n",
    "\n",
    "loader = PyPDFLoader(\"OSS_Stack_2022_v8.8_2022-12-01.pdf\")\n",
    "pages = loader.load_and_split()\n",
    "pages"
   ]
  },
  {
   "cell_type": "code",
   "execution_count": 19,
   "metadata": {},
   "outputs": [],
   "source": [
    "from langchain_community.vectorstores import DocArrayInMemorySearch\n",
    "\n",
    "vectorstore = DocArrayInMemorySearch.from_documents(pages, embedding=embeddings)"
   ]
  },
  {
   "cell_type": "code",
   "execution_count": 20,
   "metadata": {},
   "outputs": [
    {
     "data": {
      "text/plain": [
       "[Document(page_content='Database Replication SymmetricDS (3.14.x / 1.7.x)   \\nDatabase Management SQLyog (Community Edition)(13.1.x)\\nNewSQL YugabyteDB (2.14.1.x), Vitess(15.x)\\nData Management ODK (Open Data Collect) (2022.3.x), Netlogo (6.3.x), Fluentd(1.15.x)\\nCaching (in memory DB) redis (7.0.x), memcached(1.6.x)\\nGIS Server Geo Server (2.21.x), \\nGeotools(25.x)Geo Server (2.21.x), \\nGeotools(25.x)`Map server \\n(8.0.x/7.6.x), MBTILES \\nCommunity \\nmodule(1.x),GEOWEB\\nCACHE(1.x), \\nJDBCConfig- \\nExtension to \\nGeoServer,GeoServer \\nPrinting Module \\nextension \\nGIS Desktop Quantum GIS (3.28.x / \\n3.22.x), GRASS GIS \\n(8.x/7.8.x), gvSIG (2.5.x)Quantum GIS (3.28.x / \\n3.22.x), GRASS GIS \\n(8.x/7.8.x), gvSIG (2.5.x)Quantum GIS (3.28.x /\\n3.22.x), GRASS GIS \\n(8.x/7.8.x), \\ngvSIG(2.5.x) , \\nTILEMILL map \\nstudio(1.0.x)\\nGIS Database PostGIS (3.1.x), neo4j CE (4.4.x)\\nPortal/CMS Drupal (9.4.x/9.3.x/7.x),\\nwordpress(6.0),\\nzope(5.x)Liferay Community \\nEdition (7.4.x),\\nStrapi.io CE (4.4.x)Drupal \\n(9.4.x/9.3.x/7.x),\\nwordpress(6.0),\\nzope(5.x), Joomla \\n(4.2.x/3.10.x)\\nDigital Archival Repository Dspace (7.x), LogicalDoc CE (Community Edition)(8. 7.x)\\nIntegrated Library Systems Koha (22.05),  Folio\\nE-learning Moodle (3.11/4.0/4.1)\\nMessaging Apache Kafka(3.3.x/3.2.x/3.1.x), ActiveMQ(5.17.x/5.16.x), \\nRabbitMQ(3.11.x/3.10.x),  NATS.io (2.9.x)\\nKnowledge Management OpenKM-CE (Community Edition)(6.3.x)\\nBusiness Intelligence(BI) Pentaho(Community Edition)(9.3/8.3 ) knowage-server(8.0.x)\\n             \\nLegend \\n            OSS Stack 2020 supplementary Tools\\n  *Please see disclaimer in last page.        Meta data collected tools for advisories         New Tools  added   based on feedback 2022Portal,e-learning,KM,BI etc. Solutions for GIS', metadata={'source': 'OSS_Stack_2022_v8.8_2022-12-01.pdf', 'page': 7}),\n",
       " Document(page_content='Analytics and Search Engine Apache-Spark(3.3.x), Apache-Flink (1.15.x/1.14.x), R-Programming (4.2.x), \\nApache-Zeppelin(0.10.x), Apache-Nutch(2.x.y/1.x.y) ,  ELK-\\nElasticsearch(8.5.x) ,  Apache Solr (9.0.x), Apache Lucene (9.4.x), \\nOpenSearch (2.3.x/2.2.x/1.3.x)\\nDashboard C3.js (0.7.x), D3.js (7.6.x), dc.js (4.2.x)\\nTesting QUnit (2.19.x), JUnit (5.x)\\nApache Jmeter (5.5),\\nW3C markup Validation \\nservice(1.4)QUnit (2.19.x), JUNit \\n(5.x),\\nApache Jmeter (5.5),\\nW3C markup \\nValidation service(1.4)Phpunit (9.x)\\nApache Jmeter (5.5)\\nW3C markup \\nValidation service(1.4)\\nSelenium (4.6.x),\\xa0Gophish(0.12.x)\\nStatic Code Analyzer PMD (6.51.x)\\nMobile Native (Android) Android Studio 2021.3.1 (Dolphin)),   rootbeer(0.1.x), volley(1.2.x), \\nSmack(4.4.x), okhttp(4.10.x),  zxing(3.5.x),  \\nMobile Native (iOS) SwiftyJSON(5.0.x), SwiftLinkPreview(3.4.x), CryptoSwift(1.6.x), Swift \\n5(5.6.x), SwiftEntryKit(2.0.x), ReverseExtension(0.6.x), \\nZIPFoundation(0.9.x), RNCryptor(5.1.x), Cocopods(1.11.x), Toolbar(0.7.x), \\ncoturn (4.5.2.x), SVProgressHUD(2.2.x), DataCompression(3.6.x), \\nAlamofireImage(4.2.x),  Alamofire(5.6.x),  IQKeyboardManager(6.5.x) ,  \\nXMPPFramework(4.1.x), FlexColorPicker(1.4.x), TextFieldEffects(1.7.x), \\nCross-platform Apache-Cordova (11.0.x),  Ionic(6.3.x), Flutter(3.3.x), Appium(2.0.x),   \\nGlide(4.14.x), GoogleWebRTC(1.01x), React Native (0.70.x)\\nServer Operating System Debian (11.x)\\nDesktop Operating System  BOSS (9.x/8.x) / Fedora (36) / Debian (11.x)\\nContainers Docker (20.10.x), Kubernetes(1.x) , podman (4.2.x),\\nCommand Line Interface Fish (3.5.x), Byobu (5.x), Guake (3.9.x), Snowflake SSH(1.0.x), \\nMonitoring Solution OpenNMS(30.0.x), Zabbix(6.x/5.x), Netdata(1.35.x), Nagios (4.4.x), \\nOpenDCIM(21.x),  AWStats(7.x), IBM appmetrics(5.1.x) \\nDirectory Services OpenLDAP (2.6.x)\\nVirtualisation  proxmox(7.x)\\nCloud Platform OpenStack (Zed), Minio(RELEASE.2022-10-05T14-58-27Z ), Jaeger(1.39)\\nVideo Conference Apache OpenMeetings (6.3.x), Jitsi(2.x)\\nConfiguration Management Apache Zookeeper (3.8.x), Ansible(2.9.x)\\nVPN wiregaurd(1.0.x)\\nIssue Tracking OTRS (Open-source Ticket Request System)(8.0.x)\\nMail Zimbra(9.0.x)\\nMalware Malware Information Sharing Platform (MISP) (2.4.x)\\nStorage Ceph Storage (17.2.x)\\nNetworkign Platform/API Open vSwitch (OVS)(2.17.x), Open Network Operating System (ONOS)\\n(2.7.x), OpenDaylight (ODL)(Chlorine -SR0)\\nInstant Messaging eJabberd(22.x)\\nNon-Relational Database (Big Data) Apache Cassandra (4.0.x ) , Apache Hbase (2.5.x ) with Hadoop (3.3.x ), \\nApache CouchDB (3.2.x ) ,Apache Hive (3.1.x ),  ArangoDB(3.10.x), \\nmongoDB(6.1.x), Apache Drill  (1.20.x), RavenDB(5.4.x)\\nObject Relational Mapping Hibernate (6.1.x) Hibernate (6.1.x)Doctrine (3.2.x)\\nDatabase Administration PgAdmin IV (4.x), PhpMyAdmin (5.2.x), phppgAdmin(7.13.x),  \\nRedash(10.1.x)\\nDatabase Reporting Jasper Report (6.20.x) with\\niReport Designer (5.6.x), \\nBirt (4.9.x)Jasper Report (6.20.x) \\nwith iReport Designer \\n(5.6.x), wkhtmltopdf \\n(0.12.x), Birt (4.9.x)wkhtmltopdf (0.12.x), \\nMPDF(8.1.x), \\nFPDF(1.x), \\nTCPDF(6.4.x)Solutions for Data Management Mobile Applications Solutions for Infrastructure Application testingData Analytics', metadata={'source': 'OSS_Stack_2022_v8.8_2022-12-01.pdf', 'page': 6}),\n",
       " Document(page_content='Supplementary Tools\\nFunctional Areas for Tools OWT Technology Stack Java Technology Stack PHP Technology Stack\\nIDE Eclipse (2022-xx ) with extensions, Netbeans (15.x), Jetbrains- IntelliJ \\nIDEA(2022.2.x ), Visual Studio Community Edition(17.x )\\nSource Code Control Git (2.38.x) / Subversion (1.x), GITHub(3.1.x) \\nSource Code Editor Visual Studio Code (1.73.x)\\nDocumentation LibreOffice (7.3.x), Openoffice (4.1.x)\\nBuild Tool Apache Maven (3.8.x), \\nGradle (7.5.x), \\nWebpack(5.74.x)Apache Maven (3.8.x) , \\nGradle (7.5.x) Phing (2.17.x), \\npuppet(7.19.x), \\nComposer(2.4.x )\\nApplication Life Cycle Management / Project \\nManagementTuleap (13.x), Redmine (5.0.x), \\nCI/CD Jenkins (2.x), GITLab(15.x), SonarQube(9.7.x)\\nCode review Gerrit (3.x)\\nProgramming Language Client-side HTML (5.x), CSS (3.x/4.x), JavaScript (ECMA Script 2022), jQuery (3.6.x )\\nWeb Service Framework Apache CXF (3.5.x/3.4.x) \\nSymfony (6.1.x/5.4.x)Apache CXF (3.5.x/ \\n3.4.x ), PostGREST \\n(10.0.x) Symfony (6.1.x/5.4.x), \\nCakePHP (4.4.x) / \\nLaravel (10.x/9.x), \\nCodeIgniter (4.2.x)\\nWeb / HTTP Server  nginx-quic (1.23.x) with boringssl\\nProgramming Language Server-side and \\nLibraryXAMPP(8.1.x/8.0.x/7.4.x)\\nGoLang(1.19.x/1.18.x), ASP.NET Core MVC(7.0)\\nServer Side Framework Spring Boot (2.7.x) Apache Wicket \\nFramework \\n(9.12.x/8.14.x) , Ruby \\non Rails(7.0.x/ 6.1.x/ \\n6.0.x/ 5.2.x), Struts \\n(6.0.x / Spring (5.3.x) \\n/Spring Boot (2.7.x)CakePHP (4.4.x) / \\nLaravel (10.x/9.x), \\nSymfony (6.1.x/5.4.x), \\nCodeIgniter (4.2.x)\\n.NET Core (7.0.x/6.0.x), Python-Django (4.1.x), Whack(0.7.x), WSO2 \\nCE(4.7.x), Kong CE(3.x.y/2.x.y)\\nServer-side API TYK (4.2.x/4.0.x)\\nServer-side API(GoLang) Go Chi(5.0.x), JWT-GO(3.2.x), Gorm(1.24.x), Logrus(1.8.1), Resty(2.7.x), \\nGRPC-Go(1.50.x), envconfig(1.4.x), Gorilla /Web Socket(1.5.x) \\nGo(1.19.x/1.18.x), FluxIO Go XMPP(0.5.x), Go Redis(8.11.x), bleve(2.3.x), \\nHikariCP(5.0.x), Themis(13.x), Gorilla MUX(1.8.x)\\nApplication Server Node.js (19.x/18.x) with Express.js(4.18.x)\\nClient-side Framework React.js (18.2.x/17.0.x), Vue.js(3.2.x), Polymer.js (3.4.x/2.8.x), Angular \\n(14.0.x/13.0.x), Ember (4.8.x) , Bootstrap (5.x/4.x), underscore.js(1.13.x), \\nRedux (4.2.x)\\nClient-side API Openlayers(7.1.x), google-webrtc(1.0.x)Solutions for Application Development & Deployment  Solutions for Source Code management, Dev Ops & Documentation', metadata={'source': 'OSS_Stack_2022_v8.8_2022-12-01.pdf', 'page': 5}),\n",
       " Document(page_content='Priority Tools\\nFunctional Areas for Tools OWT Technology Stack Java Technology Stack PHP Technology Stack\\nSolutions for Infrastructure\\nServer Operating System CentOS  (7.x), CentOS Stream (8/9)*\\nUbuntu (22.04/20.04/18.04)\\n  AlmaLinux (9.x/8.x)\\n  Rocky Linux (9.x/8.x)\\nDesktop Operating System Ubuntu (22.04/20.04/18.04)\\nSolutions for Application Development & Deployment\\nWeb / HTTP Server Apache HTTP Server (2.4.x), Nginx  (1.23.x)\\nApplication Server Apache Tomcat (8.5.x/9.0.x/10.0.x/10.1.x)\\nProgramming Language Server-\\nside and LibraryOpenJDK(17.x/11.x), \\nPHP (8.1.x/8.0.x) OpenJDK (17.x/11.x) PHP (8.1.x/8.0.x)\\nPython (3.x)\\nRelational Database PostgreSQL Community Edition (15.x/14.x/13.x/12.x/11.x)\\nMariaDB Community Edition (10.9.x/10.8.x/10.6.x/10.5.x/10.4.x/10.3.x )\\nMySQL Community Edition (8.0.x)', metadata={'source': 'OSS_Stack_2022_v8.8_2022-12-01.pdf', 'page': 4})]"
      ]
     },
     "execution_count": 20,
     "metadata": {},
     "output_type": "execute_result"
    }
   ],
   "source": [
    "retriever = vectorstore.as_retriever()\n",
    "retriever.invoke(\"stack\")"
   ]
  },
  {
   "cell_type": "code",
   "execution_count": 21,
   "metadata": {},
   "outputs": [],
   "source": [
    "from operator import itemgetter\n",
    "\n",
    "chain = (\n",
    "    {\n",
    "        \"context\": itemgetter(\"question\") | retriever,\n",
    "        \"question\": itemgetter(\"question\"),\n",
    "    }\n",
    "    | prompt\n",
    "    | model\n",
    "    | parser\n",
    ")"
   ]
  },
  {
   "cell_type": "code",
   "execution_count": 22,
   "metadata": {},
   "outputs": [
    {
     "name": "stdout",
     "output_type": "stream",
     "text": [
      "Question: What is the purpose of the pdf?\n",
      "Answer: The primary purpose of this PDF document appears to be a recommendation for an Open Source Software (OSS) stack for use in e-Government applications managed by the National Informatics Centre (NIC). The document provides information on the recommended OSS tools and their versions, along with guidelines for adoption and support services.\n",
      "\n"
     ]
    }
   ],
   "source": [
    "questions = [\n",
    "    \"What is the purpose of the pdf?\",\n",
    "]\n",
    "\n",
    "for question in questions:\n",
    "    print(f\"Question: {question}\")\n",
    "    print(f\"Answer: {chain.invoke({'question': question})}\")\n",
    "    print()"
   ]
  },
  {
   "cell_type": "code",
   "execution_count": 23,
   "metadata": {},
   "outputs": [
    {
     "data": {
      "text/plain": [
       "['Based on the context, it appears that the purpose of this PDF document is to provide a comprehensive guide for using Open Source Software (OSS) in e-Governance applications, specifically within the National Informatics Centre (NIC). The document outlines the recommended OSS stack for NIC, including priority and supplementary tools, as well as guidelines for adopting and utilizing these tools.']"
      ]
     },
     "execution_count": 23,
     "metadata": {},
     "output_type": "execute_result"
    }
   ],
   "source": [
    "chain.batch([{\"question\": q} for q in questions])"
   ]
  },
  {
   "cell_type": "code",
   "execution_count": 26,
   "metadata": {},
   "outputs": [
    {
     "name": "stdout",
     "output_type": "stream",
     "text": [
      "The provided document does not mention anything about the latest software for mobile native (iOS). The document appears to be a guide on open-source software (OSS) stack for NIC and it focuses on tools and technologies used in developing e-Governance applications. It does not provide information on iOS or other mobile operating systems.\n",
      "\n",
      "If you are looking for information on the latest iOS version, I can suggest checking Apple's official website or reputable technology news sources for that information."
     ]
    }
   ],
   "source": [
    "for s in chain.stream({\"question\": \"What are the latest software for mobile native(IOS) ?\"}):\n",
    "    print(s, end=\"\", flush=True)"
   ]
  }
 ],
 "metadata": {
  "kernelspec": {
   "display_name": ".venv",
   "language": "python",
   "name": "python3"
  },
  "language_info": {
   "codemirror_mode": {
    "name": "ipython",
    "version": 3
   },
   "file_extension": ".py",
   "mimetype": "text/x-python",
   "name": "python",
   "nbconvert_exporter": "python",
   "pygments_lexer": "ipython3",
   "version": "3.10.6"
  }
 },
 "nbformat": 4,
 "nbformat_minor": 2
}
